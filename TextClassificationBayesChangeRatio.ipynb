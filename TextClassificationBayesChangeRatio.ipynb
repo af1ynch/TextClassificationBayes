{
 "cells": [
  {
   "cell_type": "code",
   "execution_count": 1,
   "metadata": {
    "collapsed": true
   },
   "outputs": [],
   "source": [
    "import numpy as np\n",
    "import scipy as sc\n",
    "import os, re\n",
    "import matplotlib.pyplot as plt\n",
    "from prettyprint import pp\n",
    "from sklearn.feature_extraction.text import CountVectorizer, TfidfTransformer\n",
    "from sklearn.naive_bayes import BernoulliNB, GaussianNB, MultinomialNB\n",
    "from sklearn.metrics import confusion_matrix, f1_score, accuracy_score, precision_score, recall_score, classification_report\n",
    "from datetime import datetime as dt\n",
    "from ipy_table import *\n",
    "from string import punctuation, digits"
   ]
  },
  {
   "cell_type": "code",
   "execution_count": 2,
   "metadata": {
    "collapsed": true
   },
   "outputs": [],
   "source": [
    "data_path = '/Users/alexandre/Projects/TextClassificationBayes/tok_vnexpress/'\n",
    "stopwords_path = '/Users/alexandre/Projects/TextClassificationBayes/vietnamese-stopwords-dash.txt'\n",
    "\n",
    "\n",
    "#Classes are the folder names\n",
    "class_names = os.listdir(data_path)\n",
    "folders =  [data_path + folder + '/' for folder in os.listdir(data_path) if folder != \".DS_Store\"]\n",
    "\n",
    "if '.DS_Store' in class_names: del class_names[0]\n",
    "\n",
    "\n",
    "#list the files of each class\n",
    "files = {}\n",
    "\n",
    "for folder, name in zip(folders, class_names):\n",
    "    files[name] = [folder + f for f in os.listdir(folder)]\n",
    "    \n",
    "    \n",
    "train_test_ratio = 0.7"
   ]
  },
  {
   "cell_type": "code",
   "execution_count": 3,
   "metadata": {
    "collapsed": true
   },
   "outputs": [],
   "source": [
    "def train_test_split(ratio, classes, files):\n",
    "    \"\"\"\n",
    "    this method will split the input list of files to train and test sets.\n",
    "    *Note: currently this method uses the simplest way an array can be split in two parts.\n",
    "    Parameters\n",
    "    ----------\n",
    "    ratio: float\n",
    "           ratio of total documents in each class assigned to the training set\n",
    "    classes: list\n",
    "             list of label classes\n",
    "    files: dictionary\n",
    "           a dictionary with list of files for each class\n",
    "    \n",
    "    Returns\n",
    "    -------\n",
    "    train_dic: dictionary\n",
    "                a dictionary with lists of documents in the training set for each class\n",
    "    test_dict: dictionary\n",
    "                a dictionary with lists of documents in the testing set for each class\n",
    "    \"\"\"\n",
    "    train_dict = {}\n",
    "    test_dict = {}\n",
    "    for cl in classes:\n",
    "        train_cnt = int(ratio * len(files[cl]))\n",
    "        train_dict[cl] = files[cl][:train_cnt]\n",
    "        test_dict[cl] = files[cl][train_cnt:]\n",
    "    return train_dict, test_dict\n",
    "\n",
    "\n",
    "train_path, test_path = train_test_split(train_test_ratio, class_names, files)\n",
    "#train_path, test_path, class_train, class_test = train_test_split(files, class_names, test_size=0.3, random_state=42)\n",
    "stop_word = []\n",
    "\n",
    "def loadStopWord(path):\n",
    "\n",
    "    from string import punctuation, digits\n",
    "    stop_word = []\n",
    "    try:\n",
    "        f = open(path)\n",
    "        lines = [line.rstrip('\\n') for line in open(path)]\n",
    "        lines = [line.replace('_', '') for line in lines]\n",
    "            \n",
    "    finally:\n",
    "        f.close()\n",
    "    return lines\n",
    "\n",
    "stop_word = loadStopWord(stopwords_path)\n",
    "\n",
    "\n",
    "def cleanupText(path):\n",
    "    \"\"\"\n",
    "    this method will read in a text file and try to cleanup its text.\n",
    "    Parameters\n",
    "    ----------\n",
    "    path: path to the document file\n",
    "    \n",
    "    Returns\n",
    "    -------\n",
    "    text_cleaned: cleaned up raw text in the input file\n",
    "    \"\"\"\n",
    "    \n",
    "    text_cleaned = ''\n",
    "    try:\n",
    "        f = open(path)\n",
    "        raw = f.read().lower()\n",
    "        text =  raw\n",
    "        text_cleaned = text.translate(None, punctuation + digits)\n",
    "        # print \"\\n Word count before:\" + str(len(text_translated.split())) + \"\\n\"\n",
    "        # for stop in stop_word:\n",
    "        #   text_translated = text_translated.replace(stop,'')\n",
    "        # print \"\\n Word count after:\" + str(len(text_translated.split())) + \"\\n\"\n",
    "        text_cleaned = ' '.join([word for word in text_cleaned.split(' ') if (word and len(word) > 1)])\n",
    "        \n",
    "    finally:\n",
    "        f.close()\n",
    "    return text_cleaned"
   ]
  },
  {
   "cell_type": "code",
   "execution_count": 4,
   "metadata": {
    "collapsed": false
   },
   "outputs": [
    {
     "name": "stdout",
     "output_type": "stream",
     "text": [
      "33236\n",
      "14251\n"
     ]
    }
   ],
   "source": [
    "train_arr = []\n",
    "test_arr = []\n",
    "train_lbl = []\n",
    "test_lbl = []\n",
    "\n",
    "\n",
    "for cl in class_names:\n",
    "    for path in train_path[cl]:\n",
    "        train_arr.append(cleanupText(path))\n",
    "        train_lbl.append(cl)\n",
    "    for path in test_path[cl]:\n",
    "        test_arr.append(cleanupText(path))\n",
    "        test_lbl.append(cl)\n",
    "        \n",
    "print len(train_arr)\n",
    "print len(test_arr)"
   ]
  },
  {
   "cell_type": "code",
   "execution_count": 5,
   "metadata": {
    "collapsed": false
   },
   "outputs": [
    {
     "name": "stdout",
     "output_type": "stream",
     "text": [
      "(33236, 133112)\n",
      "(14251, 133112)\n",
      "(33236, 133112)\n",
      "(14251, 133112)\n"
     ]
    }
   ],
   "source": [
    "vectorizer = CountVectorizer()\n",
    "vectorizer.fit(train_arr)\n",
    "train_mat = vectorizer.transform(train_arr)\n",
    "print train_mat.shape\n",
    "#print train_mat\n",
    "test_mat = vectorizer.transform(test_arr)\n",
    "print test_mat.shape\n",
    "\n",
    "tfidf = TfidfTransformer()\n",
    "tfidf.fit(train_mat)\n",
    "train_tfmat = tfidf.transform(train_mat)\n",
    "print train_tfmat.shape\n",
    "#print train_tfmat\n",
    "test_tfmat = tfidf.transform(test_mat)\n",
    "print test_tfmat.shape"
   ]
  },
  {
   "cell_type": "code",
   "execution_count": 8,
   "metadata": {
    "collapsed": true
   },
   "outputs": [],
   "source": [
    "def testClassifier(x_train, y_train, x_test, y_test, clf):\n",
    "    \"\"\"\n",
    "    this method will first train the classifier on the training data\n",
    "    and will then test the trained classifier on test data.\n",
    "    Finally it will report some metrics on the classifier performance.\n",
    "    \n",
    "    Parameters\n",
    "    ----------\n",
    "    x_train: np.ndarray\n",
    "             train data matrix\n",
    "    y_train: list\n",
    "             train data label\n",
    "    x_test: np.ndarray\n",
    "            test data matrix\n",
    "    y_test: list\n",
    "            test data label\n",
    "    clf: sklearn classifier object implementing fit() and predict() methods\n",
    "    \n",
    "    Returns\n",
    "    -------\n",
    "    metrics: list\n",
    "             [training time, testing time, recall and precision for every class, macro-averaged F1 score]\n",
    "    \"\"\"\n",
    "   \n",
    "    start = dt.now()\n",
    "    clf.fit(x_train, y_train)\n",
    "    end = dt.now()\n",
    "    print 'training time: ', (end - start)\n",
    "    \n",
    "    start = dt.now()\n",
    "    yhat = clf.predict(x_test)\n",
    "    end = dt.now()\n",
    "    print 'testing time: ', (end - start)\n",
    "   \n",
    "    print 'classification report: '\n",
    "\n",
    "    pp(classification_report(y_test, yhat))\n",
    "    \n",
    "    print 'f1 score'\n",
    "    print f1_score(y_test, yhat, average='macro')\n",
    "    \n",
    "    print 'accuracy score'\n",
    "    accuracy = accuracy_score(y_test, yhat)\n",
    "    print accuracy\n",
    "  \n",
    "\n",
    "    print 'confusion matrix:'\n",
    "    print confusion_matrix(y_test, yhat)\n",
    "    \n",
    "    # plot the confusion matrix\n",
    "    plt.imshow(confusion_matrix(y_test, yhat), interpolation='nearest')\n",
    "    plt.show()\n",
    "    \n",
    "    return accuracy\n",
    "\n",
    "metrics_dict = {}\n",
    "\n"
   ]
  },
  {
   "cell_type": "code",
   "execution_count": 13,
   "metadata": {
    "collapsed": false
   },
   "outputs": [
    {
     "name": "stdout",
     "output_type": "stream",
     "text": [
      "alpha= =10\n",
      "training time:  0:01:16.678566\n",
      "testing time:  0:00:18.310939\n",
      "classification report: \n",
      "\"             precision    recall  f1-score   support\n",
      "\n",
      "    du-lich       0.92      0.70      0.80      1184\n",
      "   giai-tri       0.89      0.96      0.92      1373\n",
      "   giao-duc       0.96      0.81      0.88      1266\n",
      "   khoa-hoc       0.93      0.79      0.85      1320\n",
      " kinh-doanh       0.51      0.98      0.67      1350\n",
      " oto-xe-may       0.98      0.82      0.90      1261\n",
      "  phap-luat       0.79      0.85      0.82      1350\n",
      "     so-hoa       0.93      0.78      0.85      1208\n",
      "   the-gioi       0.84      0.89      0.86      1344\n",
      "   the-thao       0.95      0.99      0.97      1373\n",
      "    thoi-su       0.88      0.55      0.68      1222\n",
      "\n",
      "avg / total       0.87      0.83      0.84     14251\n",
      "\"\n",
      "f1 score\n",
      "0.837304219411\n",
      "accuracy score\n",
      "0.834397586134\n",
      "confusion matrix:\n",
      "[[ 833   44    6   30  181    0   10    2   62    5   11]\n",
      " [   1 1315    4    0   35    0    5    1    8    3    1]\n",
      " [  10   31 1031   25   94    0   28    7    7   19   14]\n",
      " [   8   13    9 1043  134   11    7   27   59    7    2]\n",
      " [   1    6    0    0 1319    0    3   14    2    3    2]\n",
      " [   2    8    3    6   99 1039   43   13   17    8   23]\n",
      " [   1    6    2    0  145    8 1152    1    3    0   32]\n",
      " [   8   26   11    8  120    1   48  938   39    9    0]\n",
      " [   7    8    4    4   94    0   23    1 1190    9    4]\n",
      " [   0    6    0    0    5    0    0    0    4 1358    0]\n",
      " [  30    9    4   10  339    1  132    0   22    2  673]]\n"
     ]
    },
    {
     "data": {
      "image/png": "[encoded data removed]",
      "text/plain": [
       "<matplotlib.figure.Figure at 0x10e4bda50>"
      ]
     },
     "metadata": {},
     "output_type": "display_data"
    },
    {
     "name": "stdout",
     "output_type": "stream",
     "text": [
      "alpha= =5\n",
      "training time:  0:01:12.245944\n",
      "testing time:  0:00:18.443132\n",
      "classification report: \n",
      "\"             precision    recall  f1-score   support\n",
      "\n",
      "    du-lich       0.91      0.75      0.82      1184\n",
      "   giai-tri       0.90      0.96      0.93      1373\n",
      "   giao-duc       0.96      0.82      0.89      1266\n",
      "   khoa-hoc       0.92      0.82      0.87      1320\n",
      " kinh-doanh       0.56      0.97      0.71      1350\n",
      " oto-xe-may       0.98      0.83      0.90      1261\n",
      "  phap-luat       0.81      0.86      0.83      1350\n",
      "     so-hoa       0.93      0.78      0.85      1208\n",
      "   the-gioi       0.85      0.90      0.87      1344\n",
      "   the-thao       0.96      0.99      0.98      1373\n",
      "    thoi-su       0.85      0.61      0.71      1222\n",
      "\n",
      "avg / total       0.87      0.85      0.85     14251\n",
      "\"\n",
      "f1 score\n",
      "0.850496513526\n",
      "accuracy score\n",
      "0.848782541576\n",
      "confusion matrix:\n",
      "[[ 884   37    6   32  137    0    6    3   61    3   15]\n",
      " [   1 1322    4    1   27    0    4    2    9    2    1]\n",
      " [  12   29 1044   27   80    0   26    6    7   14   21]\n",
      " [   9   12   11 1080  106    8    6   24   53    7    4]\n",
      " [   3    7    0    0 1312    0    4   15    2    2    5]\n",
      " [   7    8    4    9   85 1045   38   13   14    6   32]\n",
      " [   1    5    2    0  125    7 1160    1    4    0   45]\n",
      " [  10   23   11    9  109    1   48  948   42    7    0]\n",
      " [   9   10    4    5   76    0   22    1 1204    8    5]\n",
      " [   0    6    0    0    4    0    0    0    6 1357    0]\n",
      " [  35    8    5    9  279    1  120    1   22    2  740]]\n"
     ]
    },
    {
     "data": {
      "image/png": "[encoded data removed]",
      "text/plain": [
       "<matplotlib.figure.Figure at 0x10e922490>"
      ]
     },
     "metadata": {},
     "output_type": "display_data"
    },
    {
     "name": "stdout",
     "output_type": "stream",
     "text": [
      "alpha= =1\n",
      "training time:  0:01:15.187538\n",
      "testing time:  0:00:20.412283\n",
      "classification report: \n",
      "\"             precision    recall  f1-score   support\n",
      "\n",
      "    du-lich       0.89      0.80      0.84      1184\n",
      "   giai-tri       0.92      0.97      0.94      1373\n",
      "   giao-duc       0.95      0.85      0.90      1266\n",
      "   khoa-hoc       0.91      0.87      0.89      1320\n",
      " kinh-doanh       0.66      0.95      0.78      1350\n",
      " oto-xe-may       0.98      0.86      0.92      1261\n",
      "  phap-luat       0.84      0.89      0.86      1350\n",
      "     so-hoa       0.95      0.81      0.87      1208\n",
      "   the-gioi       0.87      0.91      0.89      1344\n",
      "   the-thao       0.98      0.99      0.98      1373\n",
      "    thoi-su       0.83      0.72      0.77      1222\n",
      "\n",
      "avg / total       0.89      0.88      0.88     14251\n",
      "\"\n",
      "f1 score\n",
      "0.87708254463\n",
      "accuracy score\n",
      "0.876991088345\n",
      "confusion matrix:\n",
      "[[ 948   30    7   44   75    1    7    2   47    0   23]\n",
      " [   2 1329    4    2   20    0    3    2    9    1    1]\n",
      " [  12   23 1082   29   46    1   27    7    7    3   29]\n",
      " [  12    7   16 1143   61    6    5   18   38    3   11]\n",
      " [  11    7    4    1 1281    0    6   17    2    2   19]\n",
      " [  10    8    5   12   60 1080   30    4   13    5   34]\n",
      " [   1    5    3    0   76    8 1195    1    3    0   58]\n",
      " [  16   19   13   13   79    0   46  979   39    3    1]\n",
      " [  10    7    4    9   52    0   19    1 1225    7   10]\n",
      " [   0    7    0    0    4    0    1    0    7 1354    0]\n",
      " [  40    6    6    7  174    1   83    1   22    0  882]]\n"
     ]
    },
    {
     "data": {
      "image/png": "[encoded data removed]",
      "text/plain": [
       "<matplotlib.figure.Figure at 0x10e922d10>"
      ]
     },
     "metadata": {},
     "output_type": "display_data"
    },
    {
     "name": "stdout",
     "output_type": "stream",
     "text": [
      "alpha= =0.5\n",
      "training time:  0:01:16.683426\n",
      "testing time:  0:00:19.453690\n",
      "classification report: \n",
      "\"             precision    recall  f1-score   support\n",
      "\n",
      "    du-lich       0.88      0.82      0.85      1184\n",
      "   giai-tri       0.93      0.97      0.95      1373\n",
      "   giao-duc       0.93      0.86      0.90      1266\n",
      "   khoa-hoc       0.90      0.88      0.89      1320\n",
      " kinh-doanh       0.70      0.94      0.80      1350\n",
      " oto-xe-may       0.98      0.87      0.93      1261\n",
      "  phap-luat       0.86      0.89      0.87      1350\n",
      "     so-hoa       0.95      0.82      0.88      1208\n",
      "   the-gioi       0.88      0.92      0.90      1344\n",
      "   the-thao       0.99      0.99      0.99      1373\n",
      "    thoi-su       0.81      0.75      0.78      1222\n",
      "\n",
      "avg / total       0.89      0.88      0.89     14251\n",
      "\"\n",
      "f1 score\n",
      "0.884449922492\n",
      "accuracy score\n",
      "0.884920356466\n",
      "confusion matrix:\n",
      "[[ 967   26    8   48   60    1    7    2   40    0   25]\n",
      " [   5 1331    6    2   16    0    3    2    7    0    1]\n",
      " [  11   21 1095   30   36    1   23    6    7    3   33]\n",
      " [  16    3   20 1158   46    6    4   19   34    1   13]\n",
      " [  13    5    9    2 1264    0    6   19    3    2   27]\n",
      " [  11    9    5   13   51 1100   25    2   11    4   30]\n",
      " [   1    5    4    0   57    8 1205    1    2    0   67]\n",
      " [  18   19   15   14   71    0   43  986   39    2    1]\n",
      " [  12    6    4   11   44    0   14    2 1235    5   11]\n",
      " [   0    7    1    1    1    0    1    0    7 1353    2]\n",
      " [  41    5    6    6  148    1   76    1   21    0  917]]\n"
     ]
    },
    {
     "data": {
      "image/png": "[encoded data removed]",
      "text/plain": [
       "<matplotlib.figure.Figure at 0x10efad210>"
      ]
     },
     "metadata": {},
     "output_type": "display_data"
    }
   ],
   "source": [
    "#'name', 'metrics'\n",
    "\n",
    "#bnb = BernoulliNB()\n",
    "#bnb_me = testClassifier(train_tfmat, train_lbl, test_tfmat, test_lbl, bnb)\n",
    "#metrics_dict.append({'name':'BernoulliNB', 'metrics':bnb_me})\n",
    "#\n",
    "#\n",
    "#gnb = GaussianNB()\n",
    "#gnb_me = testClassifier(train_tfmat.toarray(), train_lbl, test_tfmat.toarray(), test_lbl, gnb)\n",
    "#metrics_dict.append({'name':'GaussianNB', 'metrics':gnb_me})\n",
    "alpha=[10,5,1,0.5]\n",
    "\n",
    "for a in alpha:\n",
    "    print \"alpha= =\" + str(a)\n",
    "    mnb = MultinomialNB(a)\n",
    "    mnb_me = testClassifier(train_tfmat.toarray(), train_lbl, test_tfmat.toarray(), test_lbl, mnb)\n",
    "    metrics_dict.update({a:mnb_me})\n",
    "\n",
    "#mnb = MultinomialNB(alpha=0.01)\n",
    "#mnb_me = testClassifier(train_mat.toarray(), train_lbl, test_mat.toarray(), test_lbl, mnb)\n",
    "#mnb_me = testClassifier(train_tfmat.toarray(), train_lbl, test_tfmat.toarray(), test_lbl, mnb)\n",
    "#metrics_dict.append({'name':'MultinomialNB', 'metrics':mnb_me})\n"
   ]
  },
  {
   "cell_type": "code",
   "execution_count": 24,
   "metadata": {
    "collapsed": false
   },
   "outputs": [
    {
     "name": "stdout",
     "output_type": "stream",
     "text": [
      "(0.5, 1, 5, 10)\n",
      "(0.88492035646621292, 0.87699108834467754, 0.84878254157602973, 0.83439758613430637)\n"
     ]
    },
    {
     "data": {
      "image/png": "[encoded data removed]",
      "text/plain": [
       "<matplotlib.figure.Figure at 0x10f1d0a90>"
      ]
     },
     "metadata": {},
     "output_type": "display_data"
    }
   ],
   "source": [
    "lists = sorted(metrics_dict.items()) # sorted by key, return a list of tuples\n",
    "x, y = zip(*lists) # unpack a list of pairs into two tuples\n",
    "print x\n",
    "print y\n",
    "plt.plot(x, y)\n",
    "plt.gca().invert_xaxis()\n",
    "plt.show()"
   ]
  },
  {
   "cell_type": "code",
   "execution_count": null,
   "metadata": {
    "collapsed": true
   },
   "outputs": [],
   "source": []
  },
  {
   "cell_type": "code",
   "execution_count": null,
   "metadata": {
    "collapsed": true
   },
   "outputs": [],
   "source": []
  }
 ],
 "metadata": {
  "kernelspec": {
   "display_name": "Python 2",
   "language": "python",
   "name": "python2"
  },
  "language_info": {
   "codemirror_mode": {
    "name": "ipython",
    "version": 2
   },
   "file_extension": ".py",
   "mimetype": "text/x-python",
   "name": "python",
   "nbconvert_exporter": "python",
   "pygments_lexer": "ipython2",
   "version": "2.7.13"
  }
 },
 "nbformat": 4,
 "nbformat_minor": 2
}
