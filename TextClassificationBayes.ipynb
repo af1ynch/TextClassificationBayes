{
 "cells": [
  {
   "cell_type": "code",
   "execution_count": 25,
   "metadata": {
    "collapsed": true
   },
   "outputs": [],
   "source": [
    "import numpy as np\n",
    "import scipy as sc\n",
    "import os, re\n",
    "import matplotlib.pyplot as plt\n",
    "from prettyprint import pp\n",
    "from sklearn.feature_extraction.text import CountVectorizer, TfidfTransformer\n",
    "from sklearn.naive_bayes import BernoulliNB, GaussianNB, MultinomialNB\n",
    "from sklearn.metrics import confusion_matrix, f1_score, accuracy_score, precision_score, recall_score, classification_report\n",
    "from datetime import datetime as dt\n",
    "from ipy_table import *\n",
    "from string import punctuation, digits"
   ]
  },
  {
   "cell_type": "code",
   "execution_count": 26,
   "metadata": {
    "collapsed": true
   },
   "outputs": [],
   "source": [
    "data_path = '/Users/alexandre/Projects/TextClassificationBayes/tok_vnexpress/'\n",
    "stopwords_path = '/Users/alexandre/Projects/TextClassificationBayes/vietnamese-stopwords-dash.txt'\n",
    "\n",
    "\n",
    "#Classes are the folder names\n",
    "class_names = os.listdir(data_path)\n",
    "folders =  [data_path + folder + '/' for folder in os.listdir(data_path) if folder != \".DS_Store\"]\n",
    "\n",
    "if '.DS_Store' in class_names: del class_names[0]\n",
    "\n",
    "\n",
    "#list the files of each class\n",
    "files = {}\n",
    "\n",
    "for folder, name in zip(folders, class_names):\n",
    "    files[name] = [folder + f for f in os.listdir(folder)]\n",
    "    \n",
    "    \n",
    "train_test_ratio = 0.7"
   ]
  },
  {
   "cell_type": "code",
   "execution_count": 27,
   "metadata": {
    "collapsed": true
   },
   "outputs": [],
   "source": [
    "def train_test_split(ratio, classes, files):\n",
    "    \"\"\"\n",
    "    this method will split the input list of files to train and test sets.\n",
    "    *Note: currently this method uses the simplest way an array can be split in two parts.\n",
    "    Parameters\n",
    "    ----------\n",
    "    ratio: float\n",
    "           ratio of total documents in each class assigned to the training set\n",
    "    classes: list\n",
    "             list of label classes\n",
    "    files: dictionary\n",
    "           a dictionary with list of files for each class\n",
    "    \n",
    "    Returns\n",
    "    -------\n",
    "    train_dic: dictionary\n",
    "                a dictionary with lists of documents in the training set for each class\n",
    "    test_dict: dictionary\n",
    "                a dictionary with lists of documents in the testing set for each class\n",
    "    \"\"\"\n",
    "    train_dict = {}\n",
    "    test_dict = {}\n",
    "    for cl in classes:\n",
    "        train_cnt = int(ratio * len(files[cl]))\n",
    "        train_dict[cl] = files[cl][:train_cnt]\n",
    "        test_dict[cl] = files[cl][train_cnt:]\n",
    "    return train_dict, test_dict\n",
    "\n",
    "\n",
    "train_path, test_path = train_test_split(train_test_ratio, class_names, files)\n",
    "#train_path, test_path, class_train, class_test = train_test_split(files, class_names, test_size=0.3, random_state=42)\n",
    "stop_word = []\n",
    "\n",
    "def loadStopWord(path):\n",
    "\n",
    "    from string import punctuation, digits\n",
    "    stop_word = []\n",
    "    try:\n",
    "        f = open(path)\n",
    "        lines = [line.rstrip('\\n') for line in open(path)]\n",
    "        lines = [line.replace('_', '') for line in lines]\n",
    "            \n",
    "    finally:\n",
    "        f.close()\n",
    "    return lines\n",
    "\n",
    "stop_word = loadStopWord(stopwords_path)\n",
    "\n",
    "\n",
    "def cleanupText(path):\n",
    "    \"\"\"\n",
    "    this method will read in a text file and try to cleanup its text.\n",
    "    Parameters\n",
    "    ----------\n",
    "    path: path to the document file\n",
    "    \n",
    "    Returns\n",
    "    -------\n",
    "    text_cleaned: cleaned up raw text in the input file\n",
    "    \"\"\"\n",
    "    \n",
    "    text_cleaned = ''\n",
    "    try:\n",
    "        f = open(path)\n",
    "        raw = f.read().lower()\n",
    "        text =  raw\n",
    "        text_cleaned = text.translate(None, punctuation + digits)\n",
    "        # print \"\\n Word count before:\" + str(len(text_translated.split())) + \"\\n\"\n",
    "        # for stop in stop_word:\n",
    "        #   text_translated = text_translated.replace(stop,'')\n",
    "        # print \"\\n Word count after:\" + str(len(text_translated.split())) + \"\\n\"\n",
    "        text_cleaned = ' '.join([word for word in text_cleaned.split(' ') if (word and len(word) > 1)])\n",
    "        \n",
    "    finally:\n",
    "        f.close()\n",
    "    return text_cleaned"
   ]
  },
  {
   "cell_type": "code",
   "execution_count": 28,
   "metadata": {
    "collapsed": false
   },
   "outputs": [
    {
     "name": "stdout",
     "output_type": "stream",
     "text": [
      "33236\n",
      "14251\n"
     ]
    }
   ],
   "source": [
    "train_arr = []\n",
    "test_arr = []\n",
    "train_lbl = []\n",
    "test_lbl = []\n",
    "\n",
    "\n",
    "for cl in class_names:\n",
    "    for path in train_path[cl]:\n",
    "        train_arr.append(cleanupText(path))\n",
    "        train_lbl.append(cl)\n",
    "    for path in test_path[cl]:\n",
    "        test_arr.append(cleanupText(path))\n",
    "        test_lbl.append(cl)\n",
    "        \n",
    "print len(train_arr)\n",
    "print len(test_arr)"
   ]
  },
  {
   "cell_type": "code",
   "execution_count": 29,
   "metadata": {
    "collapsed": false
   },
   "outputs": [
    {
     "name": "stdout",
     "output_type": "stream",
     "text": [
      "(33236, 133112)\n",
      "(14251, 133112)\n",
      "(33236, 133112)\n",
      "(14251, 133112)\n"
     ]
    }
   ],
   "source": [
    "vectorizer = CountVectorizer()\n",
    "vectorizer.fit(train_arr)\n",
    "train_mat = vectorizer.transform(train_arr)\n",
    "print train_mat.shape\n",
    "#print train_mat\n",
    "test_mat = vectorizer.transform(test_arr)\n",
    "print test_mat.shape\n",
    "\n",
    "tfidf = TfidfTransformer()\n",
    "tfidf.fit(train_mat)\n",
    "train_tfmat = tfidf.transform(train_mat)\n",
    "print train_tfmat.shape\n",
    "#print train_tfmat\n",
    "test_tfmat = tfidf.transform(test_mat)\n",
    "print test_tfmat.shape"
   ]
  },
  {
   "cell_type": "code",
   "execution_count": 30,
   "metadata": {
    "collapsed": true
   },
   "outputs": [],
   "source": [
    "def testClassifier(x_train, y_train, x_test, y_test, clf):\n",
    "    \"\"\"\n",
    "    this method will first train the classifier on the training data\n",
    "    and will then test the trained classifier on test data.\n",
    "    Finally it will report some metrics on the classifier performance.\n",
    "    \n",
    "    Parameters\n",
    "    ----------\n",
    "    x_train: np.ndarray\n",
    "             train data matrix\n",
    "    y_train: list\n",
    "             train data label\n",
    "    x_test: np.ndarray\n",
    "            test data matrix\n",
    "    y_test: list\n",
    "            test data label\n",
    "    clf: sklearn classifier object implementing fit() and predict() methods\n",
    "    \n",
    "    Returns\n",
    "    -------\n",
    "    metrics: list\n",
    "             [training time, testing time, recall and precision for every class, macro-averaged F1 score]\n",
    "    \"\"\"\n",
    "    #metrics = []\n",
    "    start = dt.now()\n",
    "    clf.fit(x_train, y_train)\n",
    "    end = dt.now()\n",
    "    print 'training time: ', (end - start)\n",
    "    \n",
    "    # add training time to metrics\n",
    "    #metrics.append(end-start)\n",
    "    \n",
    "    start = dt.now()\n",
    "    yhat = clf.predict(x_test)\n",
    "    end = dt.now()\n",
    "    print 'testing time: ', (end - start)\n",
    "    \n",
    "    print 'classification report: '\n",
    "\n",
    "    pp(classification_report(y_test, yhat))\n",
    "    \n",
    "    print 'f1 score'\n",
    "    print f1_score(y_test, yhat, average='macro')\n",
    "    \n",
    "    print 'accuracy score'\n",
    "    accuracy = accuracy_score(y_test, yhat)\n",
    "    print accuracy\n",
    " \n",
    "    print 'confusion matrix:'\n",
    "    print confusion_matrix(y_test, yhat)\n",
    "    \n",
    "    # plot the confusion matrix\n",
    "    plt.imshow(confusion_matrix(y_test, yhat), interpolation='nearest')\n",
    "    plt.show()\n",
    "    \n",
    "    return accuracy\n",
    "\n",
    "metrics_dict = {}\n",
    "\n"
   ]
  },
  {
   "cell_type": "code",
   "execution_count": 31,
   "metadata": {
    "collapsed": false
   },
   "outputs": [
    {
     "name": "stdout",
     "output_type": "stream",
     "text": [
      "alpha= =5\n",
      "training time:  0:01:19.319887\n",
      "testing time:  0:00:19.196373\n",
      "classification report: \n",
      "\"             precision    recall  f1-score   support\n",
      "\n",
      "    du-lich       0.91      0.75      0.82      1184\n",
      "   giai-tri       0.90      0.96      0.93      1373\n",
      "   giao-duc       0.96      0.82      0.89      1266\n",
      "   khoa-hoc       0.92      0.82      0.87      1320\n",
      " kinh-doanh       0.56      0.97      0.71      1350\n",
      " oto-xe-may       0.98      0.83      0.90      1261\n",
      "  phap-luat       0.81      0.86      0.83      1350\n",
      "     so-hoa       0.93      0.78      0.85      1208\n",
      "   the-gioi       0.85      0.90      0.87      1344\n",
      "   the-thao       0.96      0.99      0.98      1373\n",
      "    thoi-su       0.85      0.61      0.71      1222\n",
      "\n",
      "avg / total       0.87      0.85      0.85     14251\n",
      "\"\n",
      "f1 score\n",
      "0.850496513526\n",
      "accuracy score\n",
      "0.848782541576\n",
      "confusion matrix:\n",
      "[[ 884   37    6   32  137    0    6    3   61    3   15]\n",
      " [   1 1322    4    1   27    0    4    2    9    2    1]\n",
      " [  12   29 1044   27   80    0   26    6    7   14   21]\n",
      " [   9   12   11 1080  106    8    6   24   53    7    4]\n",
      " [   3    7    0    0 1312    0    4   15    2    2    5]\n",
      " [   7    8    4    9   85 1045   38   13   14    6   32]\n",
      " [   1    5    2    0  125    7 1160    1    4    0   45]\n",
      " [  10   23   11    9  109    1   48  948   42    7    0]\n",
      " [   9   10    4    5   76    0   22    1 1204    8    5]\n",
      " [   0    6    0    0    4    0    0    0    6 1357    0]\n",
      " [  35    8    5    9  279    1  120    1   22    2  740]]\n"
     ]
    },
    {
     "data": {
      "image/png": "[encoded data removed]",
      "text/plain": [
       "<matplotlib.figure.Figure at 0x10ea8fbd0>"
      ]
     },
     "metadata": {},
     "output_type": "display_data"
    },
    {
     "name": "stdout",
     "output_type": "stream",
     "text": [
      "alpha= =2\n",
      "training time:  0:01:17.345137\n",
      "testing time:  0:00:18.801492\n",
      "classification report: \n",
      "\"             precision    recall  f1-score   support\n",
      "\n",
      "    du-lich       0.90      0.78      0.84      1184\n",
      "   giai-tri       0.91      0.97      0.94      1373\n",
      "   giao-duc       0.95      0.84      0.89      1266\n",
      "   khoa-hoc       0.91      0.85      0.88      1320\n",
      " kinh-doanh       0.62      0.96      0.75      1350\n",
      " oto-xe-may       0.99      0.84      0.91      1261\n",
      "  phap-luat       0.83      0.88      0.85      1350\n",
      "     so-hoa       0.94      0.80      0.87      1208\n",
      "   the-gioi       0.86      0.91      0.88      1344\n",
      "   the-thao       0.97      0.99      0.98      1373\n",
      "    thoi-su       0.83      0.67      0.75      1222\n",
      "\n",
      "avg / total       0.88      0.87      0.87     14251\n",
      "\"\n",
      "f1 score\n",
      "0.866424805745\n",
      "accuracy score\n",
      "0.865763806049\n",
      "confusion matrix:\n",
      "[[ 923   34    7   39  102    0    6    2   52    1   18]\n",
      " [   0 1330    4    1   21    0    4    2    9    1    1]\n",
      " [  13   28 1061   29   62    1   25    7    7    6   27]\n",
      " [  10    9   13 1122   74    6    5   21   43    7   10]\n",
      " [   7    8    1    0 1299    0    5   15    2    2   11]\n",
      " [   8    7    3   13   77 1057   33    8   14    6   35]\n",
      " [   1    5    2    0   95    7 1183    1    3    0   53]\n",
      " [  14   20   11   11   92    1   49  967   38    4    1]\n",
      " [   9    8    4    6   62    0   20    1 1217    8    9]\n",
      " [   0    6    0    0    4    0    1    0    7 1355    0]\n",
      " [  39    7    6   10  212    1   99    1   23    0  824]]\n"
     ]
    },
    {
     "data": {
      "image/png": "[encoded data removed]",
      "text/plain": [
       "<matplotlib.figure.Figure at 0x10d644410>"
      ]
     },
     "metadata": {},
     "output_type": "display_data"
    },
    {
     "name": "stdout",
     "output_type": "stream",
     "text": [
      "alpha= =1\n",
      "training time:  0:01:14.791970\n",
      "testing time:  0:00:18.931746\n",
      "classification report: \n",
      "\"             precision    recall  f1-score   support\n",
      "\n",
      "    du-lich       0.89      0.80      0.84      1184\n",
      "   giai-tri       0.92      0.97      0.94      1373\n",
      "   giao-duc       0.95      0.85      0.90      1266\n",
      "   khoa-hoc       0.91      0.87      0.89      1320\n",
      " kinh-doanh       0.66      0.95      0.78      1350\n",
      " oto-xe-may       0.98      0.86      0.92      1261\n",
      "  phap-luat       0.84      0.89      0.86      1350\n",
      "     so-hoa       0.95      0.81      0.87      1208\n",
      "   the-gioi       0.87      0.91      0.89      1344\n",
      "   the-thao       0.98      0.99      0.98      1373\n",
      "    thoi-su       0.83      0.72      0.77      1222\n",
      "\n",
      "avg / total       0.89      0.88      0.88     14251\n",
      "\"\n",
      "f1 score\n",
      "0.87708254463\n",
      "accuracy score\n",
      "0.876991088345\n",
      "confusion matrix:\n",
      "[[ 948   30    7   44   75    1    7    2   47    0   23]\n",
      " [   2 1329    4    2   20    0    3    2    9    1    1]\n",
      " [  12   23 1082   29   46    1   27    7    7    3   29]\n",
      " [  12    7   16 1143   61    6    5   18   38    3   11]\n",
      " [  11    7    4    1 1281    0    6   17    2    2   19]\n",
      " [  10    8    5   12   60 1080   30    4   13    5   34]\n",
      " [   1    5    3    0   76    8 1195    1    3    0   58]\n",
      " [  16   19   13   13   79    0   46  979   39    3    1]\n",
      " [  10    7    4    9   52    0   19    1 1225    7   10]\n",
      " [   0    7    0    0    4    0    1    0    7 1354    0]\n",
      " [  40    6    6    7  174    1   83    1   22    0  882]]\n"
     ]
    },
    {
     "data": {
      "image/png": "[encoded data removed]",
      "text/plain": [
       "<matplotlib.figure.Figure at 0x10b9ec210>"
      ]
     },
     "metadata": {},
     "output_type": "display_data"
    },
    {
     "name": "stdout",
     "output_type": "stream",
     "text": [
      "alpha= =0.75\n",
      "training time:  0:01:15.410418\n",
      "testing time:  0:00:18.956157\n",
      "classification report: \n",
      "\"             precision    recall  f1-score   support\n",
      "\n",
      "    du-lich       0.89      0.81      0.85      1184\n",
      "   giai-tri       0.92      0.97      0.94      1373\n",
      "   giao-duc       0.94      0.86      0.90      1266\n",
      "   khoa-hoc       0.90      0.87      0.89      1320\n",
      " kinh-doanh       0.68      0.94      0.79      1350\n",
      " oto-xe-may       0.98      0.86      0.92      1261\n",
      "  phap-luat       0.85      0.89      0.87      1350\n",
      "     so-hoa       0.95      0.81      0.88      1208\n",
      "   the-gioi       0.87      0.92      0.89      1344\n",
      "   the-thao       0.98      0.99      0.98      1373\n",
      "    thoi-su       0.82      0.73      0.77      1222\n",
      "\n",
      "avg / total       0.89      0.88      0.88     14251\n",
      "\"\n",
      "f1 score\n",
      "0.8802985558\n",
      "accuracy score\n",
      "0.880499614062\n",
      "confusion matrix:\n",
      "[[ 957   27    8   46   67    1    7    2   46    0   23]\n",
      " [   4 1329    4    2   18    0    3    2    9    1    1]\n",
      " [  11   22 1087   30   41    1   28    7    7    3   29]\n",
      " [  12    6   17 1151   55    6    5   17   37    2   12]\n",
      " [  11    6    7    2 1273    0    6   17    4    2   22]\n",
      " [  11    8    5   12   57 1087   28    4   12    5   32]\n",
      " [   1    5    3    0   64    8 1203    1    2    0   63]\n",
      " [  18   19   14   13   76    0   43  981   40    3    1]\n",
      " [  11    6    4    9   47    0   17    2 1231    6   11]\n",
      " [   0    7    0    1    3    0    1    0    7 1353    1]\n",
      " [  40    6    6    6  164    1   81    1   21    0  896]]\n"
     ]
    },
    {
     "data": {
      "image/png": "[encoded data removed]",
      "text/plain": [
       "<matplotlib.figure.Figure at 0x10d701d50>"
      ]
     },
     "metadata": {},
     "output_type": "display_data"
    },
    {
     "name": "stdout",
     "output_type": "stream",
     "text": [
      "alpha= =0.5\n",
      "training time:  0:01:17.247727\n",
      "testing time:  0:00:19.144623\n",
      "classification report: \n",
      "\"             precision    recall  f1-score   support\n",
      "\n",
      "    du-lich       0.88      0.82      0.85      1184\n",
      "   giai-tri       0.93      0.97      0.95      1373\n",
      "   giao-duc       0.93      0.86      0.90      1266\n",
      "   khoa-hoc       0.90      0.88      0.89      1320\n",
      " kinh-doanh       0.70      0.94      0.80      1350\n",
      " oto-xe-may       0.98      0.87      0.93      1261\n",
      "  phap-luat       0.86      0.89      0.87      1350\n",
      "     so-hoa       0.95      0.82      0.88      1208\n",
      "   the-gioi       0.88      0.92      0.90      1344\n",
      "   the-thao       0.99      0.99      0.99      1373\n",
      "    thoi-su       0.81      0.75      0.78      1222\n",
      "\n",
      "avg / total       0.89      0.88      0.89     14251\n",
      "\"\n",
      "f1 score\n",
      "0.884449922492\n",
      "accuracy score\n",
      "0.884920356466\n",
      "confusion matrix:\n",
      "[[ 967   26    8   48   60    1    7    2   40    0   25]\n",
      " [   5 1331    6    2   16    0    3    2    7    0    1]\n",
      " [  11   21 1095   30   36    1   23    6    7    3   33]\n",
      " [  16    3   20 1158   46    6    4   19   34    1   13]\n",
      " [  13    5    9    2 1264    0    6   19    3    2   27]\n",
      " [  11    9    5   13   51 1100   25    2   11    4   30]\n",
      " [   1    5    4    0   57    8 1205    1    2    0   67]\n",
      " [  18   19   15   14   71    0   43  986   39    2    1]\n",
      " [  12    6    4   11   44    0   14    2 1235    5   11]\n",
      " [   0    7    1    1    1    0    1    0    7 1353    2]\n",
      " [  41    5    6    6  148    1   76    1   21    0  917]]\n"
     ]
    },
    {
     "data": {
      "image/png": "[encoded data removed]",
      "text/plain": [
       "<matplotlib.figure.Figure at 0x103fb8cd0>"
      ]
     },
     "metadata": {},
     "output_type": "display_data"
    },
    {
     "name": "stdout",
     "output_type": "stream",
     "text": [
      "alpha= =0.25\n",
      "training time:  0:01:16.646392\n",
      "testing time:  0:00:18.788358\n",
      "classification report: \n",
      "\"             precision    recall  f1-score   support\n",
      "\n",
      "    du-lich       0.88      0.83      0.85      1184\n",
      "   giai-tri       0.94      0.97      0.95      1373\n",
      "   giao-duc       0.92      0.87      0.89      1266\n",
      "   khoa-hoc       0.90      0.89      0.89      1320\n",
      " kinh-doanh       0.75      0.93      0.83      1350\n",
      " oto-xe-may       0.98      0.89      0.93      1261\n",
      "  phap-luat       0.86      0.89      0.88      1350\n",
      "     so-hoa       0.94      0.83      0.88      1208\n",
      "   the-gioi       0.89      0.92      0.90      1344\n",
      "   the-thao       0.99      0.99      0.99      1373\n",
      "    thoi-su       0.81      0.78      0.80      1222\n",
      "\n",
      "avg / total       0.90      0.89      0.89     14251\n",
      "\"\n",
      "f1 score\n",
      "0.891746619796\n",
      "accuracy score\n",
      "0.892639113045\n",
      "confusion matrix:\n",
      "[[ 986   24    9   53   39    1    6    2   37    0   27]\n",
      " [   5 1332    9    3   11    0    3    2    7    0    1]\n",
      " [  11   19 1100   30   27    2   25    8    8    3   33]\n",
      " [  16    2   21 1172   35    6    3   19   30    1   15]\n",
      " [  16    3   14    2 1252    0    6   22    3    2   30]\n",
      " [  12    5    8   15   39 1120   20    3   10    3   26]\n",
      " [   1    3    5    0   48    9 1208    1    2    0   73]\n",
      " [  23   17   15   15   58    0   40  999   37    2    2]\n",
      " [  14    7    4   13   36    0   13    2 1242    3   10]\n",
      " [   0    7    1    1    1    0    1    0    7 1353    2]\n",
      " [  41    4    8    5  115    1   72    1   18    0  957]]\n"
     ]
    },
    {
     "data": {
      "image/png": "[encoded data removed]",
      "text/plain": [
       "<matplotlib.figure.Figure at 0x10f460710>"
      ]
     },
     "metadata": {},
     "output_type": "display_data"
    },
    {
     "name": "stdout",
     "output_type": "stream",
     "text": [
      "alpha= =0.1\n",
      "training time:  0:01:15.441541\n",
      "testing time:  0:00:18.275320\n",
      "classification report: \n",
      "\"             precision    recall  f1-score   support\n",
      "\n",
      "    du-lich       0.87      0.84      0.85      1184\n",
      "   giai-tri       0.95      0.97      0.96      1373\n",
      "   giao-duc       0.91      0.87      0.89      1266\n",
      "   khoa-hoc       0.88      0.90      0.89      1320\n",
      " kinh-doanh       0.79      0.91      0.84      1350\n",
      " oto-xe-may       0.98      0.90      0.94      1261\n",
      "  phap-luat       0.88      0.89      0.89      1350\n",
      "     so-hoa       0.95      0.83      0.89      1208\n",
      "   the-gioi       0.90      0.93      0.91      1344\n",
      "   the-thao       0.99      0.99      0.99      1373\n",
      "    thoi-su       0.80      0.81      0.80      1222\n",
      "\n",
      "avg / total       0.90      0.90      0.90     14251\n",
      "\"\n",
      "f1 score\n",
      "0.89587470516\n",
      "accuracy score\n",
      "0.89691951442\n",
      "confusion matrix:\n",
      "[[ 994   17   14   61   30    1    5    2   31    0   29]\n",
      " [   6 1331   11    4    9    0    3    2    6    0    1]\n",
      " [  11   15 1101   32   22    2   25    8    8    3   39]\n",
      " [  16    1   25 1187   26    7    3   15   25    1   14]\n",
      " [  20    4   16    6 1226    0    6   22    5    1   44]\n",
      " [  10    5    8   14   32 1141   15    1    9    3   23]\n",
      " [   1    3    4    0   40    9 1207    1    3    0   82]\n",
      " [  31   16   20   15   47    1   31 1005   35    2    5]\n",
      " [  17    4    5   15   27    0   13    2 1248    3   10]\n",
      " [   0    6    1    1    1    0    1    0    7 1354    2]\n",
      " [  40    3    8    7   92    1   65    1   17    0  988]]\n"
     ]
    },
    {
     "data": {
      "image/png": "[encoded data removed]",
      "text/plain": [
       "<matplotlib.figure.Figure at 0x10c6d1550>"
      ]
     },
     "metadata": {},
     "output_type": "display_data"
    },
    {
     "name": "stdout",
     "output_type": "stream",
     "text": [
      "alpha= =0.075\n",
      "training time:  0:01:13.090779\n",
      "testing time:  0:00:19.042369\n",
      "classification report: \n",
      "\"             precision    recall  f1-score   support\n",
      "\n",
      "    du-lich       0.86      0.84      0.85      1184\n",
      "   giai-tri       0.95      0.97      0.96      1373\n",
      "   giao-duc       0.90      0.87      0.89      1266\n",
      "   khoa-hoc       0.88      0.90      0.89      1320\n",
      " kinh-doanh       0.80      0.91      0.85      1350\n",
      " oto-xe-may       0.98      0.91      0.94      1261\n",
      "  phap-luat       0.88      0.90      0.89      1350\n",
      "     so-hoa       0.95      0.83      0.89      1208\n",
      "   the-gioi       0.90      0.93      0.91      1344\n",
      "   the-thao       0.99      0.99      0.99      1373\n",
      "    thoi-su       0.80      0.82      0.81      1222\n",
      "\n",
      "avg / total       0.90      0.90      0.90     14251\n",
      "\"\n",
      "f1 score\n",
      "0.897252677233\n",
      "accuracy score\n",
      "0.898322924707\n",
      "confusion matrix:\n",
      "[[ 998   14   16   61   28    1    5    2   30    0   29]\n",
      " [   6 1331   11    5    8    0    2    3    6    0    1]\n",
      " [  11   14 1102   33   22    2   24    8    8    3   39]\n",
      " [  16    1   24 1190   25    6    3   15   25    1   14]\n",
      " [  22    3   17    6 1223    0    6   22    5    1   45]\n",
      " [  10    5    8   15   31 1144   14    1    8    3   22]\n",
      " [   1    2    5    0   35   10 1209    1    4    0   83]\n",
      " [  35   16   22   17   44    1   29 1007   33    1    3]\n",
      " [  17    4    5   15   26    0   13    2 1247    3   12]\n",
      " [   1    6    1    1    1    0    1    0    7 1353    2]\n",
      " [  39    3    9    8   86    1   61    1   16    0  998]]\n"
     ]
    },
    {
     "data": {
      "image/png": "[encoded data removed]",
      "text/plain": [
       "<matplotlib.figure.Figure at 0x10f343b90>"
      ]
     },
     "metadata": {},
     "output_type": "display_data"
    },
    {
     "name": "stdout",
     "output_type": "stream",
     "text": [
      "alpha= =0.05\n",
      "training time:  0:01:12.938064\n",
      "testing time:  0:00:18.200754\n",
      "classification report: \n",
      "\"             precision    recall  f1-score   support\n",
      "\n",
      "    du-lich       0.86      0.85      0.85      1184\n",
      "   giai-tri       0.95      0.97      0.96      1373\n",
      "   giao-duc       0.90      0.87      0.89      1266\n",
      "   khoa-hoc       0.88      0.90      0.89      1320\n",
      " kinh-doanh       0.81      0.90      0.86      1350\n",
      " oto-xe-may       0.98      0.91      0.95      1261\n",
      "  phap-luat       0.89      0.89      0.89      1350\n",
      "     so-hoa       0.95      0.84      0.89      1208\n",
      "   the-gioi       0.90      0.93      0.91      1344\n",
      "   the-thao       0.99      0.99      0.99      1373\n",
      "    thoi-su       0.80      0.83      0.81      1222\n",
      "\n",
      "avg / total       0.90      0.90      0.90     14251\n",
      "\"\n",
      "f1 score\n",
      "0.898777935058\n",
      "accuracy score\n",
      "0.899866676023\n",
      "confusion matrix:\n",
      "[[1002   14   16   61   26    1    5    2   30    0   27]\n",
      " [   7 1333   11    5    6    0    2    3    5    0    1]\n",
      " [  11   13 1105   33   21    2   24    7    7    3   40]\n",
      " [  19    0   25 1192   22    5    2   16   25    1   13]\n",
      " [  23    3   18    6 1217    0    6   24    5    1   47]\n",
      " [  10    4    8   16   29 1148   14    1    8    3   20]\n",
      " [   1    2    6    0   34   10 1204    0    4    0   89]\n",
      " [  37   16   22   17   39    1   26 1013   33    1    3]\n",
      " [  18    4    6   16   24    0   13    2 1248    3   10]\n",
      " [   1    6    1    1    1    0    1    0    7 1353    2]\n",
      " [  41    3    9    8   77    1   57    1   16    0 1009]]\n"
     ]
    },
    {
     "data": {
      "image/png": "[encoded data removed]",
      "text/plain": [
       "<matplotlib.figure.Figure at 0x10c6d0550>"
      ]
     },
     "metadata": {},
     "output_type": "display_data"
    },
    {
     "name": "stdout",
     "output_type": "stream",
     "text": [
      "alpha= =0.025\n",
      "training time:  0:01:11.798007\n",
      "testing time:  0:00:18.101972\n",
      "classification report: \n",
      "\"             precision    recall  f1-score   support\n",
      "\n",
      "    du-lich       0.85      0.85      0.85      1184\n",
      "   giai-tri       0.95      0.97      0.96      1373\n",
      "   giao-duc       0.90      0.87      0.89      1266\n",
      "   khoa-hoc       0.88      0.90      0.89      1320\n",
      " kinh-doanh       0.83      0.89      0.86      1350\n",
      " oto-xe-may       0.98      0.92      0.95      1261\n",
      "  phap-luat       0.89      0.89      0.89      1350\n",
      "     so-hoa       0.94      0.84      0.89      1208\n",
      "   the-gioi       0.91      0.93      0.92      1344\n",
      "   the-thao       0.99      0.98      0.99      1373\n",
      "    thoi-su       0.79      0.84      0.82      1222\n",
      "\n",
      "avg / total       0.90      0.90      0.90     14251\n",
      "\"\n",
      "f1 score\n",
      "0.899612034929\n",
      "accuracy score\n",
      "0.900708722195\n",
      "confusion matrix:\n",
      "[[1005   14   16   63   22    1    5    2   29    0   27]\n",
      " [   7 1334   10    4    5    0    2    4    5    0    2]\n",
      " [  11   13 1105   32   20    2   24    7    7    3   42]\n",
      " [  22    0   25 1193   20    7    2   16   22    1   12]\n",
      " [  24    3   19    6 1197    2    7   27    7    1   57]\n",
      " [  10    4    8   17   25 1155   13    1    7    2   19]\n",
      " [   2    2    6    0   31   10 1202    0    3    0   94]\n",
      " [  37   16   25   18   35    1   23 1016   32    1    4]\n",
      " [  19    4    6   17   21    0   12    2 1251    2   10]\n",
      " [   1    7    2    1    1    0    0    0    7 1352    2]\n",
      " [  42    2    9    8   66    1   55    1   12    0 1026]]\n"
     ]
    },
    {
     "data": {
      "image/png": "[encoded data removed]",
      "text/plain": [
       "<matplotlib.figure.Figure at 0x10ba8ef50>"
      ]
     },
     "metadata": {},
     "output_type": "display_data"
    },
    {
     "name": "stdout",
     "output_type": "stream",
     "text": [
      "alpha= =0.01\n",
      "training time:  0:01:11.797108\n",
      "testing time:  0:00:18.363866\n",
      "classification report: \n",
      "\"             precision    recall  f1-score   support\n",
      "\n",
      "    du-lich       0.85      0.85      0.85      1184\n",
      "   giai-tri       0.96      0.97      0.96      1373\n",
      "   giao-duc       0.90      0.87      0.89      1266\n",
      "   khoa-hoc       0.88      0.90      0.89      1320\n",
      " kinh-doanh       0.84      0.88      0.86      1350\n",
      " oto-xe-may       0.98      0.92      0.95      1261\n",
      "  phap-luat       0.90      0.89      0.90      1350\n",
      "     so-hoa       0.94      0.84      0.89      1208\n",
      "   the-gioi       0.91      0.93      0.92      1344\n",
      "   the-thao       0.99      0.99      0.99      1373\n",
      "    thoi-su       0.79      0.85      0.82      1222\n",
      "\n",
      "avg / total       0.90      0.90      0.90     14251\n",
      "\"\n",
      "f1 score\n",
      "0.900867131553\n",
      "accuracy score\n",
      "0.901971791453\n",
      "confusion matrix:\n",
      "[[1008   14   15   63   22    1    4    2   29    0   26]\n",
      " [   7 1336    9    4    4    0    2    4    5    0    2]\n",
      " [  14   12 1106   31   18    2   22    6    7    3   45]\n",
      " [  26    1   25 1194   20    6    2   15   19    1   11]\n",
      " [  25    3   19    6 1184    2    6   29    9    1   66]\n",
      " [   9    3    9   17   24 1159   12    1    7    2   18]\n",
      " [   2    1    6    0   26   11 1204    0    3    0   97]\n",
      " [  39   15   24   18   33    1   23 1019   31    1    4]\n",
      " [  18    5    5   18   21    1    8    2 1256    2    8]\n",
      " [   1    6    4    1    0    0    0    0    7 1353    1]\n",
      " [  38    2    7    9   59    1   57    2   12    0 1035]]\n"
     ]
    },
    {
     "data": {
      "image/png": "[encoded data removed]",
      "text/plain": [
       "<matplotlib.figure.Figure at 0x10c328310>"
      ]
     },
     "metadata": {},
     "output_type": "display_data"
    }
   ],
   "source": [
    "#'name', 'metrics'\n",
    "\n",
    "#bnb = BernoulliNB()\n",
    "#bnb_me = testClassifier(train_tfmat, train_lbl, test_tfmat, test_lbl, bnb)\n",
    "#metrics_dict.append({'name':'BernoulliNB', 'metrics':bnb_me})\n",
    "#\n",
    "#\n",
    "#gnb = GaussianNB()\n",
    "#gnb_me = testClassifier(train_tfmat.toarray(), train_lbl, test_tfmat.toarray(), test_lbl, gnb)\n",
    "#metrics_dict.append({'name':'GaussianNB', 'metrics':gnb_me})\n",
    "alpha=[5,2,1,0.75,0.5,0.25,0.1,0.075,0.05,0.025,0.01]\n",
    "\n",
    "for a in alpha:\n",
    "    print \"alpha= =\" + str(a)\n",
    "    mnb = MultinomialNB(a)\n",
    "    mnb_me = testClassifier(train_tfmat.toarray(), train_lbl, test_tfmat.toarray(), test_lbl, mnb)\n",
    "    metrics_dict.update({a:mnb_me})\n",
    "\n",
    "#mnb = MultinomialNB(alpha=0.01)\n",
    "#mnb_me = testClassifier(train_mat.toarray(), train_lbl, test_mat.toarray(), test_lbl, mnb)\n",
    "#mnb_me = testClassifier(train_tfmat.toarray(), train_lbl, test_tfmat.toarray(), test_lbl, mnb)\n",
    "#metrics_dict.append({'name':'MultinomialNB', 'metrics':mnb_me})\n"
   ]
  },
  {
   "cell_type": "code",
   "execution_count": 34,
   "metadata": {
    "collapsed": false
   },
   "outputs": [
    {
     "name": "stdout",
     "output_type": "stream",
     "text": [
      "(0.01, 0.025, 0.05, 0.075, 0.1, 0.25, 0.5, 0.75, 1, 2, 5)\n",
      "(0.90197179145323136, 0.9007087221949337, 0.89986667602273529, 0.89832292470703812, 0.8969195144200407, 0.89263911304469856, 0.88492035646621292, 0.88049961406217103, 0.87699108834467754, 0.86576380604869829, 0.84878254157602973)\n"
     ]
    },
    {
     "data": {
      "image/png": "[encoded data removed]",
      "text/plain": [
       "<matplotlib.figure.Figure at 0x10bce8c90>"
      ]
     },
     "metadata": {},
     "output_type": "display_data"
    }
   ],
   "source": [
    "lists = sorted(metrics_dict.items()) # sorted by key, return a list of tuples\n",
    "x, y = zip(*lists) # unpack a list of pairs into two tuples\n",
    "print x\n",
    "print y\n",
    "plt.plot(x, y)\n",
    "plt.gca().invert_xaxis()\n",
    "plt.xlim(5, 0)  # decreasing time\n",
    "plt.xlabel('decreasing alpha')\n",
    "plt.ylabel('accuracy')\n",
    "plt.title('Accuracy changes according to alpha')\n",
    "plt.grid(True)\n",
    "\n",
    "plt.show()"
   ]
  },
  {
   "cell_type": "code",
   "execution_count": null,
   "metadata": {
    "collapsed": true
   },
   "outputs": [],
   "source": []
  },
  {
   "cell_type": "code",
   "execution_count": null,
   "metadata": {
    "collapsed": true
   },
   "outputs": [],
   "source": []
  }
 ],
 "metadata": {
  "kernelspec": {
   "display_name": "Python 2",
   "language": "python",
   "name": "python2"
  },
  "language_info": {
   "codemirror_mode": {
    "name": "ipython",
    "version": 2
   },
   "file_extension": ".py",
   "mimetype": "text/x-python",
   "name": "python",
   "nbconvert_exporter": "python",
   "pygments_lexer": "ipython2",
   "version": "2.7.13"
  }
 },
 "nbformat": 4,
 "nbformat_minor": 2
}
